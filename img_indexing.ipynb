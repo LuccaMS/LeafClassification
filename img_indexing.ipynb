{
 "cells": [
  {
   "cell_type": "code",
   "execution_count": null,
   "metadata": {},
   "outputs": [],
   "source": [
    "#from helpers.ImageEmbeddings import ImageEmbedding\n",
    "from img2vec_pytorch import Img2Vec\n",
    "from PIL import Image\n",
    "import random\n",
    "import matplotlib.pyplot as plt\n",
    "import os #usada apenas para saber a quantidaade de imagens sendo usadas\n",
    "import re\n",
    "import torch"
   ]
  },
  {
   "cell_type": "code",
   "execution_count": null,
   "metadata": {},
   "outputs": [],
   "source": [
    "from elasticsearch import Elasticsearch"
   ]
  },
  {
   "cell_type": "code",
   "execution_count": null,
   "metadata": {},
   "outputs": [],
   "source": [
    "import pandas as pd\n",
    "from elasticsearch.helpers import bulk"
   ]
  },
  {
   "cell_type": "code",
   "execution_count": null,
   "metadata": {},
   "outputs": [],
   "source": [
    "index = 'plant_index'\n",
    "df = pd.read_csv('data/imgs/labels.csv')"
   ]
  },
  {
   "cell_type": "code",
   "execution_count": null,
   "metadata": {},
   "outputs": [],
   "source": [
    "#elastic_client = Elasticsearch(hosts=['http://localhost:9200'], basic_auth=('elastic', '9f-T-qxVj-AeFKIAb45x'))\n",
    "elastic_client = Elasticsearch(hosts=['http://localhost:9200'])"
   ]
  },
  {
   "cell_type": "code",
   "execution_count": null,
   "metadata": {},
   "outputs": [],
   "source": [
    "#we have to scrape all the folders inside the train folder to get all the images\n",
    "train_dir = 'data/imgs/train'\n",
    "\n",
    "file_list = []\n",
    "for subdir in os.listdir(train_dir):\n",
    "    subdir_path = os.path.join(train_dir, subdir)\n",
    "    # make sure the subdirectory is actually a directory\n",
    "    if os.path.isdir(subdir_path):\n",
    "        # loop through the files in the subdirectory\n",
    "        for filename in os.listdir(subdir_path):\n",
    "            file_path = os.path.join(subdir_path, filename)\n",
    "            # make sure the file is actually a file (not a directory)\n",
    "            if os.path.isfile(file_path):\n",
    "                # add the filename (with extension) to the list\n",
    "                #file_name\n",
    "                file_list.append(file_path)  "
   ]
  },
  {
   "cell_type": "code",
   "execution_count": null,
   "metadata": {},
   "outputs": [],
   "source": [
    "file_count = len(file_list)"
   ]
  },
  {
   "cell_type": "code",
   "execution_count": null,
   "metadata": {},
   "outputs": [],
   "source": [
    "torch.cuda.is_available()\n"
   ]
  },
  {
   "cell_type": "code",
   "execution_count": null,
   "metadata": {},
   "outputs": [],
   "source": [
    "print(torch.__version__)"
   ]
  },
  {
   "cell_type": "code",
   "execution_count": null,
   "metadata": {},
   "outputs": [],
   "source": [
    "img2vec = Img2Vec(cuda=True)"
   ]
  },
  {
   "cell_type": "code",
   "execution_count": null,
   "metadata": {},
   "outputs": [],
   "source": [
    "def build_plants(name:str):\n",
    "  #img_Embedding.generate_embedding(name)\n",
    "  #vec = img_Embedding.embeddings[name]\n",
    "\n",
    "  img = Image.open(name)\n",
    "  vec = img2vec.get_vec(img)\n",
    "\n",
    "  #getting the data from the field named \"labels\" from the dataframe where the field \"image\" is the same as name\n",
    "  #labels = df.loc[df['image'] == name, 'labels'].values[0]\n",
    "\n",
    "  name_hash = name.split(\".\")[0]\n",
    "  name_hash = re.sub(r'.*\\\\', '', name_hash)\n",
    "  print(name_hash)\n",
    "  name_for_es = name_hash + \".jpg\"\n",
    "  labels = df.loc[df['image'] == name_for_es, 'labels'].values[0]\n",
    "  \n",
    "  document={ \n",
    "      \"name_hash\": name_hash,\n",
    "      \"label\": labels,\n",
    "      \"embedding\": vec,\n",
    "  }   \n",
    "  return document"
   ]
  },
  {
   "cell_type": "code",
   "execution_count": null,
   "metadata": {},
   "outputs": [],
   "source": [
    "#looping in the amount of images\n",
    "actions = []\n",
    "count = 0\n",
    "for i in range(file_count):\n",
    "    file_name_now = str(file_list[i])\n",
    "    count += 1\n",
    "    print(f'File {count} of {file_count} - {file_name_now}')\n",
    "    #resp = elastic_client.index(index=index, body=build_plants(file_name_now))\n",
    "    #print(resp['result'])\n",
    "    actions.append({\"_index\":index,\"_source\":build_plants(file_name_now)})\n",
    "    if (i % 100) == 0: \n",
    "        print(f\"Indexing {i} images\")\n",
    "        response = bulk(elastic_client, actions)\n",
    "        print(response)\n",
    "        actions.clear()\n",
    "    \n",
    "if len(actions) != 0:\n",
    "    bulk(elastic_client, actions)\n",
    "    actions.clear()\n",
    "print(f\"Indexing {i} images\")   \n"
   ]
  }
 ],
 "metadata": {
  "kernelspec": {
   "display_name": "Python 3",
   "language": "python",
   "name": "python3"
  },
  "language_info": {
   "codemirror_mode": {
    "name": "ipython",
    "version": 3
   },
   "file_extension": ".py",
   "mimetype": "text/x-python",
   "name": "python",
   "nbconvert_exporter": "python",
   "pygments_lexer": "ipython3",
   "version": "3.11.2"
  },
  "orig_nbformat": 4
 },
 "nbformat": 4,
 "nbformat_minor": 2
}
