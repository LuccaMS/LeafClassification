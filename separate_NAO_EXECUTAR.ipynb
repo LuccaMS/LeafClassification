{
 "cells": [
  {
   "attachments": {},
   "cell_type": "markdown",
   "metadata": {},
   "source": [
    "Esse código foi utilizado para organizar as imagens em suas classes e em treino/teste, teremos 80% sendo upados para o elastic search como treino, e o restante para teste"
   ]
  },
  {
   "cell_type": "code",
   "execution_count": null,
   "metadata": {},
   "outputs": [],
   "source": [
    "import os\n",
    "import shutil\n",
    "import random\n",
    "import pandas as pd"
   ]
  },
  {
   "cell_type": "code",
   "execution_count": null,
   "metadata": {},
   "outputs": [],
   "source": [
    "image_dir = \"data/imgs/train_images\"\n",
    "train_percentage = 0.8"
   ]
  },
  {
   "cell_type": "code",
   "execution_count": null,
   "metadata": {},
   "outputs": [],
   "source": [
    "df = pd.read_csv('data/imgs/labels.csv')"
   ]
  },
  {
   "cell_type": "code",
   "execution_count": null,
   "metadata": {},
   "outputs": [],
   "source": [
    "train_dir = os.path.join('data/imgs', 'train')\n",
    "test_dir = os.path.join('data/imgs', 'test')\n",
    "os.makedirs(train_dir, exist_ok=True)\n",
    "os.makedirs(test_dir, exist_ok=True)"
   ]
  },
  {
   "cell_type": "code",
   "execution_count": null,
   "metadata": {},
   "outputs": [],
   "source": [
    "image_dict = {}\n",
    "for label in set(df['labels']):\n",
    "    image_dict[label] = []"
   ]
  },
  {
   "cell_type": "code",
   "execution_count": null,
   "metadata": {},
   "outputs": [],
   "source": [
    "for index, row in df.iterrows():\n",
    "    filename = row['image']\n",
    "    label = row['labels']\n",
    "    # add the filename to the appropriate label's list\n",
    "    image_dict[label].append(filename)"
   ]
  },
  {
   "cell_type": "code",
   "execution_count": null,
   "metadata": {},
   "outputs": [],
   "source": [
    "for key in image_dict:\n",
    "    num_ele = len(image_dict[key])\n",
    "    print(f\"{key}: {num_ele}\")"
   ]
  },
  {
   "cell_type": "code",
   "execution_count": null,
   "metadata": {},
   "outputs": [],
   "source": [
    "for label in image_dict:\n",
    "    num_images = len(image_dict[label])\n",
    "    num_train = int(train_percentage * num_images)\n",
    "\n",
    "    random.shuffle(image_dict[label])\n",
    "\n",
    "    for filename in image_dict[label][:num_train]:\n",
    "        src = os.path.join(image_dir, filename)\n",
    "        dst = os.path.join(train_dir, label, filename)\n",
    "        os.makedirs(os.path.join(train_dir, label), exist_ok=True)\n",
    "        shutil.move(src, dst)\n",
    "    for filename in image_dict[label][num_train:]:\n",
    "        src = os.path.join(image_dir, filename)\n",
    "        dst = os.path.join(test_dir, label, filename)\n",
    "        os.makedirs(os.path.join(test_dir, label), exist_ok=True)\n",
    "        shutil.move(src, dst)"
   ]
  }
 ],
 "metadata": {
  "kernelspec": {
   "display_name": "Python 3",
   "language": "python",
   "name": "python3"
  },
  "language_info": {
   "codemirror_mode": {
    "name": "ipython",
    "version": 3
   },
   "file_extension": ".py",
   "mimetype": "text/x-python",
   "name": "python",
   "nbconvert_exporter": "python",
   "pygments_lexer": "ipython3",
   "version": "3.11.2"
  },
  "orig_nbformat": 4
 },
 "nbformat": 4,
 "nbformat_minor": 2
}
