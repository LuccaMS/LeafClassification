{
 "cells": [
  {
   "cell_type": "code",
   "execution_count": 14,
   "metadata": {},
   "outputs": [],
   "source": [
    "#pip install pandas\n",
    "#pip install numpy\n",
    "#pip install torch\n",
    "#pip install elasticsearch\n",
    "import numpy as np\n",
    "import pandas as pd\n",
    "from elasticsearch import Elasticsearch"
   ]
  },
  {
   "cell_type": "code",
   "execution_count": 15,
   "metadata": {},
   "outputs": [],
   "source": [
    "#elasticsearch-reset-password --username elastic -i (para o modo interativo, ou caso ocorra um erro a próxima linha)\n",
    "#elasticsearch-reset-password --username elastic master\n",
    "elastic_client = Elasticsearch(hosts=['http://localhost:9200'], basic_auth=('elastic', '9f-T-qxVj-AeFKIAb45x'))"
   ]
  },
  {
   "cell_type": "code",
   "execution_count": 16,
   "metadata": {},
   "outputs": [],
   "source": [
    "index='plant_index'"
   ]
  },
  {
   "cell_type": "code",
   "execution_count": 17,
   "metadata": {},
   "outputs": [
    {
     "data": {
      "text/plain": [
       "ObjectApiResponse({'acknowledged': True, 'shards_acknowledged': True, 'index': 'plant_index'})"
      ]
     },
     "execution_count": 17,
     "metadata": {},
     "output_type": "execute_result"
    }
   ],
   "source": [
    "mapping = {\n",
    "    #\"_source\": {\"excludes\": [\"embedding\"]},\n",
    "    \"properties\": {\n",
    "      \"name_hash\":    { \"type\": \"text\", \"index\": False },  \n",
    "      \"label\":       { \"type\": \"text\", \"index\": False },\n",
    "      \"embedding\":   { \"type\": \"dense_vector\", \"dims\": 512, \"index\": True, \"similarity\": \"cosine\"}     \n",
    "    }\n",
    "  }\n",
    "elastic_client.indices.create(index=index, mappings=mapping)"
   ]
  },
  {
   "cell_type": "code",
   "execution_count": 18,
   "metadata": {},
   "outputs": [
    {
     "data": {
      "text/plain": [
       "ListApiResponse([{'epoch': '1682624251', 'timestamp': '19:37:31', 'count': '0'}])"
      ]
     },
     "execution_count": 18,
     "metadata": {},
     "output_type": "execute_result"
    }
   ],
   "source": [
    "elastic_client.indices.refresh(index=index)\n",
    "elastic_client.cat.count(index=index, format=\"json\")"
   ]
  },
  {
   "cell_type": "code",
   "execution_count": 19,
   "metadata": {},
   "outputs": [
    {
     "name": "stdout",
     "output_type": "stream",
     "text": [
      "plant_index\n",
      "{'_shards': {'total': 2, 'successful': 1, 'failed': 0}, '_all': {'primaries': {'docs': {'count': 0, 'deleted': 0}, 'shard_stats': {'total_count': 1}, 'store': {'size_in_bytes': 225, 'total_data_set_size_in_bytes': 225, 'reserved_in_bytes': 0}, 'indexing': {'index_total': 0, 'index_time_in_millis': 0, 'index_current': 0, 'index_failed': 0, 'delete_total': 0, 'delete_time_in_millis': 0, 'delete_current': 0, 'noop_update_total': 0, 'is_throttled': False, 'throttle_time_in_millis': 0, 'write_load': 0.0}, 'get': {'total': 0, 'time_in_millis': 0, 'exists_total': 0, 'exists_time_in_millis': 0, 'missing_total': 0, 'missing_time_in_millis': 0, 'current': 0}, 'search': {'open_contexts': 0, 'query_total': 1, 'query_time_in_millis': 15, 'query_current': 0, 'fetch_total': 1, 'fetch_time_in_millis': 15, 'fetch_current': 0, 'scroll_total': 0, 'scroll_time_in_millis': 0, 'scroll_current': 0, 'suggest_total': 0, 'suggest_time_in_millis': 0, 'suggest_current': 0}, 'merges': {'current': 0, 'current_docs': 0, 'current_size_in_bytes': 0, 'total': 0, 'total_time_in_millis': 0, 'total_docs': 0, 'total_size_in_bytes': 0, 'total_stopped_time_in_millis': 0, 'total_throttled_time_in_millis': 0, 'total_auto_throttle_in_bytes': 20971520}, 'refresh': {'total': 3, 'total_time_in_millis': 0, 'external_total': 3, 'external_total_time_in_millis': 0, 'listeners': 0}, 'flush': {'total': 0, 'periodic': 0, 'total_time_in_millis': 0}, 'warmer': {'current': 0, 'total': 1, 'total_time_in_millis': 0}, 'query_cache': {'memory_size_in_bytes': 0, 'total_count': 0, 'hit_count': 0, 'miss_count': 0, 'cache_size': 0, 'cache_count': 0, 'evictions': 0}, 'fielddata': {'memory_size_in_bytes': 0, 'evictions': 0}, 'completion': {'size_in_bytes': 0}, 'segments': {'count': 0, 'memory_in_bytes': 0, 'terms_memory_in_bytes': 0, 'stored_fields_memory_in_bytes': 0, 'term_vectors_memory_in_bytes': 0, 'norms_memory_in_bytes': 0, 'points_memory_in_bytes': 0, 'doc_values_memory_in_bytes': 0, 'index_writer_memory_in_bytes': 0, 'version_map_memory_in_bytes': 0, 'fixed_bit_set_memory_in_bytes': 0, 'max_unsafe_auto_id_timestamp': -1, 'file_sizes': {}}, 'translog': {'operations': 0, 'size_in_bytes': 55, 'uncommitted_operations': 0, 'uncommitted_size_in_bytes': 55, 'earliest_last_modified_age': 382}, 'request_cache': {'memory_size_in_bytes': 592, 'evictions': 0, 'hit_count': 0, 'miss_count': 1}, 'recovery': {'current_as_source': 0, 'current_as_target': 0, 'throttle_time_in_millis': 0}, 'bulk': {'total_operations': 0, 'total_time_in_millis': 0, 'total_size_in_bytes': 0, 'avg_time_in_millis': 0, 'avg_size_in_bytes': 0}}, 'total': {'docs': {'count': 0, 'deleted': 0}, 'shard_stats': {'total_count': 1}, 'store': {'size_in_bytes': 225, 'total_data_set_size_in_bytes': 225, 'reserved_in_bytes': 0}, 'indexing': {'index_total': 0, 'index_time_in_millis': 0, 'index_current': 0, 'index_failed': 0, 'delete_total': 0, 'delete_time_in_millis': 0, 'delete_current': 0, 'noop_update_total': 0, 'is_throttled': False, 'throttle_time_in_millis': 0, 'write_load': 0.0}, 'get': {'total': 0, 'time_in_millis': 0, 'exists_total': 0, 'exists_time_in_millis': 0, 'missing_total': 0, 'missing_time_in_millis': 0, 'current': 0}, 'search': {'open_contexts': 0, 'query_total': 1, 'query_time_in_millis': 15, 'query_current': 0, 'fetch_total': 1, 'fetch_time_in_millis': 15, 'fetch_current': 0, 'scroll_total': 0, 'scroll_time_in_millis': 0, 'scroll_current': 0, 'suggest_total': 0, 'suggest_time_in_millis': 0, 'suggest_current': 0}, 'merges': {'current': 0, 'current_docs': 0, 'current_size_in_bytes': 0, 'total': 0, 'total_time_in_millis': 0, 'total_docs': 0, 'total_size_in_bytes': 0, 'total_stopped_time_in_millis': 0, 'total_throttled_time_in_millis': 0, 'total_auto_throttle_in_bytes': 20971520}, 'refresh': {'total': 3, 'total_time_in_millis': 0, 'external_total': 3, 'external_total_time_in_millis': 0, 'listeners': 0}, 'flush': {'total': 0, 'periodic': 0, 'total_time_in_millis': 0}, 'warmer': {'current': 0, 'total': 1, 'total_time_in_millis': 0}, 'query_cache': {'memory_size_in_bytes': 0, 'total_count': 0, 'hit_count': 0, 'miss_count': 0, 'cache_size': 0, 'cache_count': 0, 'evictions': 0}, 'fielddata': {'memory_size_in_bytes': 0, 'evictions': 0}, 'completion': {'size_in_bytes': 0}, 'segments': {'count': 0, 'memory_in_bytes': 0, 'terms_memory_in_bytes': 0, 'stored_fields_memory_in_bytes': 0, 'term_vectors_memory_in_bytes': 0, 'norms_memory_in_bytes': 0, 'points_memory_in_bytes': 0, 'doc_values_memory_in_bytes': 0, 'index_writer_memory_in_bytes': 0, 'version_map_memory_in_bytes': 0, 'fixed_bit_set_memory_in_bytes': 0, 'max_unsafe_auto_id_timestamp': -1, 'file_sizes': {}}, 'translog': {'operations': 0, 'size_in_bytes': 55, 'uncommitted_operations': 0, 'uncommitted_size_in_bytes': 55, 'earliest_last_modified_age': 382}, 'request_cache': {'memory_size_in_bytes': 592, 'evictions': 0, 'hit_count': 0, 'miss_count': 1}, 'recovery': {'current_as_source': 0, 'current_as_target': 0, 'throttle_time_in_millis': 0}, 'bulk': {'total_operations': 0, 'total_time_in_millis': 0, 'total_size_in_bytes': 0, 'avg_time_in_millis': 0, 'avg_size_in_bytes': 0}}}, 'indices': {'plant_index': {'uuid': 'FWu28CQ_Qzy68_3qU_37ug', 'health': 'yellow', 'status': 'open', 'primaries': {'docs': {'count': 0, 'deleted': 0}, 'shard_stats': {'total_count': 1}, 'store': {'size_in_bytes': 225, 'total_data_set_size_in_bytes': 225, 'reserved_in_bytes': 0}, 'indexing': {'index_total': 0, 'index_time_in_millis': 0, 'index_current': 0, 'index_failed': 0, 'delete_total': 0, 'delete_time_in_millis': 0, 'delete_current': 0, 'noop_update_total': 0, 'is_throttled': False, 'throttle_time_in_millis': 0, 'write_load': 0.0}, 'get': {'total': 0, 'time_in_millis': 0, 'exists_total': 0, 'exists_time_in_millis': 0, 'missing_total': 0, 'missing_time_in_millis': 0, 'current': 0}, 'search': {'open_contexts': 0, 'query_total': 1, 'query_time_in_millis': 15, 'query_current': 0, 'fetch_total': 1, 'fetch_time_in_millis': 15, 'fetch_current': 0, 'scroll_total': 0, 'scroll_time_in_millis': 0, 'scroll_current': 0, 'suggest_total': 0, 'suggest_time_in_millis': 0, 'suggest_current': 0}, 'merges': {'current': 0, 'current_docs': 0, 'current_size_in_bytes': 0, 'total': 0, 'total_time_in_millis': 0, 'total_docs': 0, 'total_size_in_bytes': 0, 'total_stopped_time_in_millis': 0, 'total_throttled_time_in_millis': 0, 'total_auto_throttle_in_bytes': 20971520}, 'refresh': {'total': 3, 'total_time_in_millis': 0, 'external_total': 3, 'external_total_time_in_millis': 0, 'listeners': 0}, 'flush': {'total': 0, 'periodic': 0, 'total_time_in_millis': 0}, 'warmer': {'current': 0, 'total': 1, 'total_time_in_millis': 0}, 'query_cache': {'memory_size_in_bytes': 0, 'total_count': 0, 'hit_count': 0, 'miss_count': 0, 'cache_size': 0, 'cache_count': 0, 'evictions': 0}, 'fielddata': {'memory_size_in_bytes': 0, 'evictions': 0}, 'completion': {'size_in_bytes': 0}, 'segments': {'count': 0, 'memory_in_bytes': 0, 'terms_memory_in_bytes': 0, 'stored_fields_memory_in_bytes': 0, 'term_vectors_memory_in_bytes': 0, 'norms_memory_in_bytes': 0, 'points_memory_in_bytes': 0, 'doc_values_memory_in_bytes': 0, 'index_writer_memory_in_bytes': 0, 'version_map_memory_in_bytes': 0, 'fixed_bit_set_memory_in_bytes': 0, 'max_unsafe_auto_id_timestamp': -1, 'file_sizes': {}}, 'translog': {'operations': 0, 'size_in_bytes': 55, 'uncommitted_operations': 0, 'uncommitted_size_in_bytes': 55, 'earliest_last_modified_age': 382}, 'request_cache': {'memory_size_in_bytes': 592, 'evictions': 0, 'hit_count': 0, 'miss_count': 1}, 'recovery': {'current_as_source': 0, 'current_as_target': 0, 'throttle_time_in_millis': 0}, 'bulk': {'total_operations': 0, 'total_time_in_millis': 0, 'total_size_in_bytes': 0, 'avg_time_in_millis': 0, 'avg_size_in_bytes': 0}}, 'total': {'docs': {'count': 0, 'deleted': 0}, 'shard_stats': {'total_count': 1}, 'store': {'size_in_bytes': 225, 'total_data_set_size_in_bytes': 225, 'reserved_in_bytes': 0}, 'indexing': {'index_total': 0, 'index_time_in_millis': 0, 'index_current': 0, 'index_failed': 0, 'delete_total': 0, 'delete_time_in_millis': 0, 'delete_current': 0, 'noop_update_total': 0, 'is_throttled': False, 'throttle_time_in_millis': 0, 'write_load': 0.0}, 'get': {'total': 0, 'time_in_millis': 0, 'exists_total': 0, 'exists_time_in_millis': 0, 'missing_total': 0, 'missing_time_in_millis': 0, 'current': 0}, 'search': {'open_contexts': 0, 'query_total': 1, 'query_time_in_millis': 15, 'query_current': 0, 'fetch_total': 1, 'fetch_time_in_millis': 15, 'fetch_current': 0, 'scroll_total': 0, 'scroll_time_in_millis': 0, 'scroll_current': 0, 'suggest_total': 0, 'suggest_time_in_millis': 0, 'suggest_current': 0}, 'merges': {'current': 0, 'current_docs': 0, 'current_size_in_bytes': 0, 'total': 0, 'total_time_in_millis': 0, 'total_docs': 0, 'total_size_in_bytes': 0, 'total_stopped_time_in_millis': 0, 'total_throttled_time_in_millis': 0, 'total_auto_throttle_in_bytes': 20971520}, 'refresh': {'total': 3, 'total_time_in_millis': 0, 'external_total': 3, 'external_total_time_in_millis': 0, 'listeners': 0}, 'flush': {'total': 0, 'periodic': 0, 'total_time_in_millis': 0}, 'warmer': {'current': 0, 'total': 1, 'total_time_in_millis': 0}, 'query_cache': {'memory_size_in_bytes': 0, 'total_count': 0, 'hit_count': 0, 'miss_count': 0, 'cache_size': 0, 'cache_count': 0, 'evictions': 0}, 'fielddata': {'memory_size_in_bytes': 0, 'evictions': 0}, 'completion': {'size_in_bytes': 0}, 'segments': {'count': 0, 'memory_in_bytes': 0, 'terms_memory_in_bytes': 0, 'stored_fields_memory_in_bytes': 0, 'term_vectors_memory_in_bytes': 0, 'norms_memory_in_bytes': 0, 'points_memory_in_bytes': 0, 'doc_values_memory_in_bytes': 0, 'index_writer_memory_in_bytes': 0, 'version_map_memory_in_bytes': 0, 'fixed_bit_set_memory_in_bytes': 0, 'max_unsafe_auto_id_timestamp': -1, 'file_sizes': {}}, 'translog': {'operations': 0, 'size_in_bytes': 55, 'uncommitted_operations': 0, 'uncommitted_size_in_bytes': 55, 'earliest_last_modified_age': 382}, 'request_cache': {'memory_size_in_bytes': 592, 'evictions': 0, 'hit_count': 0, 'miss_count': 1}, 'recovery': {'current_as_source': 0, 'current_as_target': 0, 'throttle_time_in_millis': 0}, 'bulk': {'total_operations': 0, 'total_time_in_millis': 0, 'total_size_in_bytes': 0, 'avg_time_in_millis': 0, 'avg_size_in_bytes': 0}}}}}\n"
     ]
    }
   ],
   "source": [
    "for index in elastic_client.indices.get(index='*'):\n",
    "  print(index)\n",
    "  print(elastic_client.indices.stats(index=index))\n"
   ]
  },
  {
   "cell_type": "code",
   "execution_count": 20,
   "metadata": {},
   "outputs": [],
   "source": [
    "#Caso seja necessário eliminar um índice do ES\n",
    "#elastic_client.indices.delete(index=index) "
   ]
  }
 ],
 "metadata": {
  "kernelspec": {
   "display_name": "Python 3",
   "language": "python",
   "name": "python3"
  },
  "language_info": {
   "codemirror_mode": {
    "name": "ipython",
    "version": 3
   },
   "file_extension": ".py",
   "mimetype": "text/x-python",
   "name": "python",
   "nbconvert_exporter": "python",
   "pygments_lexer": "ipython3",
   "version": "3.11.2"
  },
  "orig_nbformat": 4,
  "vscode": {
   "interpreter": {
    "hash": "26de051ba29f2982a8de78e945f0abaf191376122a1563185a90213a26c5da77"
   }
  }
 },
 "nbformat": 4,
 "nbformat_minor": 2
}
